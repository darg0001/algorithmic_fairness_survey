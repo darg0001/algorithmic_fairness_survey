{
 "cells": [
  {
   "cell_type": "code",
   "execution_count": 1,
   "metadata": {
    "collapsed": false
   },
   "outputs": [],
   "source": [
    "import pandas as pd\n",
    "from scipy.stats import ttest_ind, ttest_rel\n",
    "import matplotlib.pyplot as plt\n",
    "from collections import Counter\n",
    "import numpy as np\n",
    "import statsmodels.api as sm\n",
    "from copy import deepcopy\n",
    "\n",
    "# columns for analysis. \n",
    "essential_cols = ['gender_recommendations', \n",
    "          'accuracy_vs_disparity', \n",
    "          'computers_vs_humans', \n",
    "          'black_boxes', \n",
    "          'compas_unfair']\n",
    "\n",
    "# mapping from column names to full questions\n",
    "pretty_titles = {'gender_recommendations':'Use gender in\\ncourse recommendations\\neven if it reduces\\nwomen in science classes?', \n",
    "                 'accuracy_vs_disparity':'Reduce racial disparities\\nin criminal risk prediction\\nat expense of accuracy?', \n",
    "                 'computers_vs_humans':'Use computer algorithms\\n(as opposed to human judges)\\nin criminal justice at all?', \n",
    "                 'black_boxes':'Allow companies\\nto keep details of\\ncriminal justice\\nalgorithms secret?', \n",
    "                 'compas_unfair':'Is the COMPAS\\nalgorithm unfair?'}\n"
   ]
  },
  {
   "cell_type": "markdown",
   "metadata": {},
   "source": [
    "# Read in data\n",
    "\n",
    "Note: I do not include information about a respondent's profession in the released data because it makes the individual-level data too granular (ie, there are plenty of males and plenty of females but not too many females who study the humanities). Consequently, the cells at the very end of this notebook which analyze profession cannot be run, although I include them for completeness. If you would like this data, please shoot me an email at emmap1@cs.stanford.edu. \n"
   ]
  },
  {
   "cell_type": "markdown",
   "metadata": {},
   "source": [
    "## Computer science class data"
   ]
  },
  {
   "cell_type": "code",
   "execution_count": 2,
   "metadata": {
    "collapsed": false
   },
   "outputs": [
    {
     "name": "stdout",
     "output_type": "stream",
     "text": [
      "87 pre-class responses\n",
      "87 post-class responses\n"
     ]
    },
    {
     "data": {
      "text/html": [
       "<div>\n",
       "<table border=\"1\" class=\"dataframe\">\n",
       "  <thead>\n",
       "    <tr>\n",
       "      <th></th>\n",
       "      <th colspan=\"2\" halign=\"left\">gender_recommendations</th>\n",
       "      <th colspan=\"2\" halign=\"left\">accuracy_vs_disparity</th>\n",
       "      <th colspan=\"2\" halign=\"left\">computers_vs_humans</th>\n",
       "      <th colspan=\"2\" halign=\"left\">black_boxes</th>\n",
       "      <th colspan=\"2\" halign=\"left\">compas_unfair</th>\n",
       "    </tr>\n",
       "    <tr>\n",
       "      <th></th>\n",
       "      <th>mean</th>\n",
       "      <th>size</th>\n",
       "      <th>mean</th>\n",
       "      <th>size</th>\n",
       "      <th>mean</th>\n",
       "      <th>size</th>\n",
       "      <th>mean</th>\n",
       "      <th>size</th>\n",
       "      <th>mean</th>\n",
       "      <th>size</th>\n",
       "    </tr>\n",
       "    <tr>\n",
       "      <th>gender</th>\n",
       "      <th></th>\n",
       "      <th></th>\n",
       "      <th></th>\n",
       "      <th></th>\n",
       "      <th></th>\n",
       "      <th></th>\n",
       "      <th></th>\n",
       "      <th></th>\n",
       "      <th></th>\n",
       "      <th></th>\n",
       "    </tr>\n",
       "  </thead>\n",
       "  <tbody>\n",
       "    <tr>\n",
       "      <th>Female</th>\n",
       "      <td>1.409091</td>\n",
       "      <td>22</td>\n",
       "      <td>5.272727</td>\n",
       "      <td>22</td>\n",
       "      <td>2.818182</td>\n",
       "      <td>22</td>\n",
       "      <td>1.909091</td>\n",
       "      <td>22</td>\n",
       "      <td>5.500000</td>\n",
       "      <td>22</td>\n",
       "    </tr>\n",
       "    <tr>\n",
       "      <th>Male</th>\n",
       "      <td>2.061538</td>\n",
       "      <td>65</td>\n",
       "      <td>4.415385</td>\n",
       "      <td>65</td>\n",
       "      <td>3.600000</td>\n",
       "      <td>65</td>\n",
       "      <td>2.246154</td>\n",
       "      <td>65</td>\n",
       "      <td>5.292308</td>\n",
       "      <td>65</td>\n",
       "    </tr>\n",
       "  </tbody>\n",
       "</table>\n",
       "</div>"
      ],
      "text/plain": [
       "       gender_recommendations      accuracy_vs_disparity       \\\n",
       "                         mean size                  mean size   \n",
       "gender                                                          \n",
       "Female               1.409091   22              5.272727   22   \n",
       "Male                 2.061538   65              4.415385   65   \n",
       "\n",
       "       computers_vs_humans      black_boxes      compas_unfair       \n",
       "                      mean size        mean size          mean size  \n",
       "gender                                                               \n",
       "Female            2.818182   22    1.909091   22      5.500000   22  \n",
       "Male              3.600000   65    2.246154   65      5.292308   65  "
      ]
     },
     "execution_count": 2,
     "metadata": {},
     "output_type": "execute_result"
    }
   ],
   "source": [
    "# checked\n",
    "pre_class_d = pd.read_csv('pre-class ethical dilemmas survey.csv')\n",
    "post_class_d = pd.read_csv('post-class ethical dilemmas survey.csv')\n",
    "\n",
    "print len(pre_class_d), 'pre-class responses'\n",
    "print len(post_class_d), 'post-class responses'\n",
    "\n",
    "pre_class_d.loc[pre_class_d['gender'].map(lambda x:x in ['Male', 'Female'])].groupby('gender').agg(['mean', 'size'])"
   ]
  },
  {
   "cell_type": "code",
   "execution_count": 3,
   "metadata": {
    "collapsed": false
   },
   "outputs": [
    {
     "data": {
      "text/html": [
       "<div>\n",
       "<table border=\"1\" class=\"dataframe\">\n",
       "  <thead>\n",
       "    <tr>\n",
       "      <th></th>\n",
       "      <th colspan=\"2\" halign=\"left\">gender_recommendations</th>\n",
       "      <th colspan=\"2\" halign=\"left\">accuracy_vs_disparity</th>\n",
       "      <th colspan=\"2\" halign=\"left\">computers_vs_humans</th>\n",
       "      <th colspan=\"2\" halign=\"left\">black_boxes</th>\n",
       "      <th colspan=\"2\" halign=\"left\">compas_unfair</th>\n",
       "    </tr>\n",
       "    <tr>\n",
       "      <th></th>\n",
       "      <th>mean</th>\n",
       "      <th>size</th>\n",
       "      <th>mean</th>\n",
       "      <th>size</th>\n",
       "      <th>mean</th>\n",
       "      <th>size</th>\n",
       "      <th>mean</th>\n",
       "      <th>size</th>\n",
       "      <th>mean</th>\n",
       "      <th>size</th>\n",
       "    </tr>\n",
       "    <tr>\n",
       "      <th>gender</th>\n",
       "      <th></th>\n",
       "      <th></th>\n",
       "      <th></th>\n",
       "      <th></th>\n",
       "      <th></th>\n",
       "      <th></th>\n",
       "      <th></th>\n",
       "      <th></th>\n",
       "      <th></th>\n",
       "      <th></th>\n",
       "    </tr>\n",
       "  </thead>\n",
       "  <tbody>\n",
       "    <tr>\n",
       "      <th>Female</th>\n",
       "      <td>1.590909</td>\n",
       "      <td>22</td>\n",
       "      <td>5.045455</td>\n",
       "      <td>22</td>\n",
       "      <td>3.909091</td>\n",
       "      <td>22</td>\n",
       "      <td>1.272727</td>\n",
       "      <td>22</td>\n",
       "      <td>4.863636</td>\n",
       "      <td>22</td>\n",
       "    </tr>\n",
       "    <tr>\n",
       "      <th>Male</th>\n",
       "      <td>2.492308</td>\n",
       "      <td>65</td>\n",
       "      <td>4.384615</td>\n",
       "      <td>65</td>\n",
       "      <td>4.569231</td>\n",
       "      <td>65</td>\n",
       "      <td>1.646154</td>\n",
       "      <td>65</td>\n",
       "      <td>5.215385</td>\n",
       "      <td>65</td>\n",
       "    </tr>\n",
       "  </tbody>\n",
       "</table>\n",
       "</div>"
      ],
      "text/plain": [
       "       gender_recommendations      accuracy_vs_disparity       \\\n",
       "                         mean size                  mean size   \n",
       "gender                                                          \n",
       "Female               1.590909   22              5.045455   22   \n",
       "Male                 2.492308   65              4.384615   65   \n",
       "\n",
       "       computers_vs_humans      black_boxes      compas_unfair       \n",
       "                      mean size        mean size          mean size  \n",
       "gender                                                               \n",
       "Female            3.909091   22    1.272727   22      4.863636   22  \n",
       "Male              4.569231   65    1.646154   65      5.215385   65  "
      ]
     },
     "execution_count": 3,
     "metadata": {},
     "output_type": "execute_result"
    }
   ],
   "source": [
    "post_class_d.loc[post_class_d['gender'].map(lambda x:x in ['Male', 'Female'])].groupby('gender').agg(['mean', 'size'])"
   ]
  },
  {
   "cell_type": "markdown",
   "metadata": {},
   "source": [
    "## Google consumer surveys data"
   ]
  },
  {
   "cell_type": "code",
   "execution_count": 4,
   "metadata": {
    "collapsed": false
   },
   "outputs": [
    {
     "name": "stdout",
     "output_type": "stream",
     "text": [
      "573 responses\n",
      "       gender_recommendations     \n",
      "                         mean size\n",
      "gender                            \n",
      "Female               2.517730  282\n",
      "Male                 3.010309  291\n",
      "Male vals of 4 or above: 0.412; female vals: 0.287; odds ratio 1.741\n"
     ]
    }
   ],
   "source": [
    "# Checked. \n",
    "google_consumer_d = pd.read_csv('google_consumer_surveys_results.csv')\n",
    "google_consumer_d.columns = ['timestamp', \n",
    "                             'publisher', \n",
    "                             'gender',\n",
    "                             'age', \n",
    "                             'gender_recommendations', \n",
    "                             'targeted_gender_sample']\n",
    "print '%i responses' % len(google_consumer_d)\n",
    "google_consumer_d = google_consumer_d.loc[google_consumer_d['gender'].map(lambda x:x in ['Male', 'Female'])]\n",
    "print google_consumer_d[['gender', 'gender_recommendations']].groupby('gender').agg(['mean', 'size'])\n",
    "male_vals = google_consumer_d['gender_recommendations'].loc[google_consumer_d['gender'] == 'Male'].values\n",
    "female_vals = google_consumer_d['gender_recommendations'].loc[google_consumer_d['gender'] == 'Female'].values\n",
    "\n",
    "# note: the first 72 samples were collected without targeting for people whom Google could identify as \n",
    "# male or female. I then realized this meant we had to throw out a lot of data so switched to using \n",
    "# Google's gender targeting (so every sample was guaranteed to be identified as male or female). \n",
    "# The column targeted_gender_sample tells you whether the sample was collected using targeting. \n",
    "# Whether you include the 72 samples or not makes no significant difference to the effect size or the p-value. \n",
    "# I include them in the analysis.\n",
    "# I use unweighted counts in computing statistics because Google Consumer Surveys does not provide weights for demographically targeted samples.\n",
    "\n",
    "\n",
    "male_p = np.mean(male_vals >= 4)\n",
    "female_p = np.mean(female_vals >= 4)\n",
    "OR = ((male_p) / (1 - male_p)) / ((female_p) / (1 - female_p))\n",
    "print 'Male vals of 4 or above: %2.3f; female vals: %2.3f; odds ratio %2.3f' % (male_p, female_p, OR)"
   ]
  },
  {
   "cell_type": "markdown",
   "metadata": {},
   "source": [
    "## Social media data"
   ]
  },
  {
   "cell_type": "code",
   "execution_count": 5,
   "metadata": {
    "collapsed": false
   },
   "outputs": [
    {
     "name": "stdout",
     "output_type": "stream",
     "text": [
      "Prior to dropping any missing data, 163 rows\n",
      "After dropping missing data, 163 rows\n"
     ]
    }
   ],
   "source": [
    "# checked. \n",
    "social_media_d = pd.read_csv('social_media_survey_results.csv')\n",
    "social_media_d.columns = ['gender_recommendations', 'accuracy_vs_disparity', 'computers_vs_humans', 'black_boxes', 'gender']\n",
    "print 'Prior to dropping any missing data, %i rows' % len(social_media_d)\n",
    "social_media_d = social_media_d.dropna(subset=[a for a in essential_cols if a in social_media_d.columns])\n",
    "print 'After dropping missing data, %i rows' % len(social_media_d)\n"
   ]
  },
  {
   "cell_type": "code",
   "execution_count": 6,
   "metadata": {
    "collapsed": false
   },
   "outputs": [
    {
     "data": {
      "text/html": [
       "<div>\n",
       "<table border=\"1\" class=\"dataframe\">\n",
       "  <thead>\n",
       "    <tr>\n",
       "      <th></th>\n",
       "      <th colspan=\"2\" halign=\"left\">gender_recommendations</th>\n",
       "      <th colspan=\"2\" halign=\"left\">accuracy_vs_disparity</th>\n",
       "      <th colspan=\"2\" halign=\"left\">computers_vs_humans</th>\n",
       "      <th colspan=\"2\" halign=\"left\">black_boxes</th>\n",
       "    </tr>\n",
       "    <tr>\n",
       "      <th></th>\n",
       "      <th>mean</th>\n",
       "      <th>size</th>\n",
       "      <th>mean</th>\n",
       "      <th>size</th>\n",
       "      <th>mean</th>\n",
       "      <th>size</th>\n",
       "      <th>mean</th>\n",
       "      <th>size</th>\n",
       "    </tr>\n",
       "    <tr>\n",
       "      <th>gender</th>\n",
       "      <th></th>\n",
       "      <th></th>\n",
       "      <th></th>\n",
       "      <th></th>\n",
       "      <th></th>\n",
       "      <th></th>\n",
       "      <th></th>\n",
       "      <th></th>\n",
       "    </tr>\n",
       "  </thead>\n",
       "  <tbody>\n",
       "    <tr>\n",
       "      <th>Female</th>\n",
       "      <td>1.722222</td>\n",
       "      <td>72</td>\n",
       "      <td>5.013889</td>\n",
       "      <td>72</td>\n",
       "      <td>3.666667</td>\n",
       "      <td>72</td>\n",
       "      <td>2.375000</td>\n",
       "      <td>72</td>\n",
       "    </tr>\n",
       "    <tr>\n",
       "      <th>Male</th>\n",
       "      <td>2.868132</td>\n",
       "      <td>91</td>\n",
       "      <td>3.945055</td>\n",
       "      <td>91</td>\n",
       "      <td>4.219780</td>\n",
       "      <td>91</td>\n",
       "      <td>2.373626</td>\n",
       "      <td>91</td>\n",
       "    </tr>\n",
       "  </tbody>\n",
       "</table>\n",
       "</div>"
      ],
      "text/plain": [
       "       gender_recommendations      accuracy_vs_disparity       \\\n",
       "                         mean size                  mean size   \n",
       "gender                                                          \n",
       "Female               1.722222   72              5.013889   72   \n",
       "Male                 2.868132   91              3.945055   91   \n",
       "\n",
       "       computers_vs_humans      black_boxes       \n",
       "                      mean size        mean size  \n",
       "gender                                            \n",
       "Female            3.666667   72    2.375000   72  \n",
       "Male              4.219780   91    2.373626   91  "
      ]
     },
     "execution_count": 6,
     "metadata": {},
     "output_type": "execute_result"
    }
   ],
   "source": [
    "social_media_d.groupby('gender').agg({'mean', 'size'})"
   ]
  },
  {
   "cell_type": "markdown",
   "metadata": {},
   "source": [
    "# Combined gender results"
   ]
  },
  {
   "cell_type": "code",
   "execution_count": 7,
   "metadata": {
    "collapsed": false
   },
   "outputs": [
    {
     "name": "stdout",
     "output_type": "stream",
     "text": [
      "Social Media         gender_recommendations    question: male_mu: 2.868; female_mu 1.722; diff 1.146; p 3.256e-05\n",
      "GCS                  gender_recommendations    question: male_mu: 3.010; female_mu 2.518; diff 0.493; p 3.526e-03\n",
      "Pre-class            gender_recommendations    question: male_mu: 2.062; female_mu 1.409; diff 0.652; p 2.429e-02\n",
      "Post-class           gender_recommendations    question: male_mu: 2.492; female_mu 1.591; diff 0.901; p 1.757e-02\n",
      "Social Media         accuracy_vs_disparity     question: male_mu: 3.945; female_mu 5.014; diff -1.069; p 4.197e-04\n",
      "Pre-class            accuracy_vs_disparity     question: male_mu: 4.415; female_mu 5.273; diff -0.857; p 4.252e-02\n",
      "Post-class           accuracy_vs_disparity     question: male_mu: 4.385; female_mu 5.045; diff -0.661; p 1.148e-01\n",
      "Social Media         computers_vs_humans       question: male_mu: 4.220; female_mu 3.667; diff 0.553; p 5.584e-02\n",
      "Pre-class            computers_vs_humans       question: male_mu: 3.600; female_mu 2.818; diff 0.782; p 5.357e-02\n",
      "Post-class           computers_vs_humans       question: male_mu: 4.569; female_mu 3.909; diff 0.660; p 7.072e-02\n",
      "Social Media         black_boxes               question: male_mu: 2.374; female_mu 2.375; diff -0.001; p 9.959e-01\n",
      "Pre-class            black_boxes               question: male_mu: 2.246; female_mu 1.909; diff 0.337; p 3.278e-01\n",
      "Post-class           black_boxes               question: male_mu: 1.646; female_mu 1.273; diff 0.373; p 1.066e-01\n",
      "Pre-class            compas_unfair             question: male_mu: 5.292; female_mu 5.500; diff -0.208; p 4.785e-01\n",
      "Post-class           compas_unfair             question: male_mu: 5.215; female_mu 4.864; diff 0.352; p 2.723e-01\n"
     ]
    },
    {
     "data": {
      "image/png": "[encoded data removed]",
      "text/plain": [
       "<matplotlib.figure.Figure at 0x11146a090>"
      ]
     },
     "metadata": {},
     "output_type": "display_data"
    }
   ],
   "source": [
    "# Checked.  \n",
    "\n",
    "def get_star_for_significance(p):\n",
    "    if p < .001:\n",
    "        return '***'\n",
    "    if p < .01:\n",
    "        return '**'\n",
    "    if p < .05:\n",
    "        return '*'\n",
    "    return ''\n",
    "\n",
    "results_df = []\n",
    "plt.figure(figsize=[15, 3.5])\n",
    "sample_names = ['Social Media', 'GCS', 'Pre-class', 'Post-class']\n",
    "for k in ['gender_recommendations', u'accuracy_vs_disparity',\n",
    "       u'computers_vs_humans', u'black_boxes', u'compas_unfair']:\n",
    "    results_for_question = {'question':k}\n",
    "    for sample_idx, d in enumerate([social_media_d, google_consumer_d, pre_class_d, post_class_d]):\n",
    "        if k not in d.columns:\n",
    "            results_string = '-'\n",
    "        else:\n",
    "            \n",
    "            male_vals = d.loc[d['gender'] == 'Male', k]\n",
    "            female_vals = d.loc[d['gender'] == 'Female', k]\n",
    "            male_mu = male_vals.mean()\n",
    "            female_mu = female_vals.mean()\n",
    "            t, p = ttest_ind(male_vals, female_vals)\n",
    "            print '%-20s %-25s question: male_mu: %2.3f; female_mu %2.3f; diff %2.3f; p %2.3e' % (sample_names[sample_idx],\n",
    "                                                                                            k, \n",
    "                                                                                            male_mu, \n",
    "                                                                                            female_mu, \n",
    "                                                                                            male_mu - female_mu, \n",
    "                                                                                            p)\n",
    "            p_star = get_star_for_significance(p)\n",
    "            results_string = '%2.1f,%2.1f%s p=%2.1e' % (male_vals.mean(), \n",
    "                                                            female_vals.mean(), \n",
    "                                                            p_star, \n",
    "                                                            p)\n",
    "            if k == 'gender_recommendations':\n",
    "                plt.subplot(1, 4, sample_idx + 1)\n",
    "                possible_answers = range(1, 8)\n",
    "                male_counts = Counter(male_vals)\n",
    "                female_counts = Counter(female_vals)\n",
    "                male_bars = [100.0 * male_counts[i] / len(male_vals) for i in possible_answers]\n",
    "                female_bars = [100.0 * female_counts[i] / len(female_vals) for i in possible_answers]\n",
    "                plt.bar(possible_answers, male_bars, color = 'blue', alpha = .7, label = 'Males')\n",
    "                plt.bar(possible_answers, female_bars, color = 'red', alpha = .7, label = 'Females')\n",
    "                \n",
    "                \n",
    "                if sample_idx == 0:\n",
    "                    plt.ylabel(\"% of respondents\", fontsize = 16, fontweight = 'bold')\n",
    "                else:\n",
    "                    plt.yticks([])\n",
    "                if sample_idx == 0:\n",
    "                    plt.legend(fontsize = 16)\n",
    "                plt.title(sample_names[sample_idx] + ' sample', fontweight='bold')\n",
    "                plt.ylim([0, 80])\n",
    "                plt.xticks(possible_answers, possible_answers)\n",
    "                \n",
    "        results_for_question[sample_names[sample_idx]] = results_string\n",
    "    results_df.append(results_for_question)\n",
    "results_df = pd.DataFrame(results_df)\n",
    "results_df.index = results_df['question']\n",
    "results_df.index = results_df.index.map(lambda x:pretty_titles[x].replace('\\n', ' '))\n",
    "results_df = results_df[['Social Media', 'GCS', 'Pre-class', 'Post-class']]\n",
    "plt.subplots_adjust(wspace=.05, top=.85, left=.05, right=.95)\n",
    "plt.suptitle('Use gender in course recommendations even if it reduces women in science classes?', \n",
    "             fontsize=16,\n",
    "             fontweight='bold')\n",
    "plt.savefig('gender_summary_plot.pdf')\n",
    "plt.show()\n",
    "    \n",
    "    "
   ]
  },
  {
   "cell_type": "code",
   "execution_count": 8,
   "metadata": {
    "collapsed": false
   },
   "outputs": [
    {
     "data": {
      "text/html": [
       "<div>\n",
       "<table border=\"1\" class=\"dataframe\">\n",
       "  <thead>\n",
       "    <tr style=\"text-align: right;\">\n",
       "      <th></th>\n",
       "      <th>Social Media</th>\n",
       "      <th>GCS</th>\n",
       "      <th>Pre-class</th>\n",
       "      <th>Post-class</th>\n",
       "    </tr>\n",
       "  </thead>\n",
       "  <tbody>\n",
       "    <tr>\n",
       "      <th>Use gender in course recommendations even if it reduces women in science classes?</th>\n",
       "      <td>2.9,1.7*** p=3.3e-05</td>\n",
       "      <td>3.0,2.5** p=3.5e-03</td>\n",
       "      <td>2.1,1.4* p=2.4e-02</td>\n",
       "      <td>2.5,1.6* p=1.8e-02</td>\n",
       "    </tr>\n",
       "    <tr>\n",
       "      <th>Reduce racial disparities in criminal risk prediction at expense of accuracy?</th>\n",
       "      <td>3.9,5.0*** p=4.2e-04</td>\n",
       "      <td>-</td>\n",
       "      <td>4.4,5.3* p=4.3e-02</td>\n",
       "      <td>4.4,5.0 p=1.1e-01</td>\n",
       "    </tr>\n",
       "    <tr>\n",
       "      <th>Use computer algorithms (as opposed to human judges) in criminal justice at all?</th>\n",
       "      <td>4.2,3.7 p=5.6e-02</td>\n",
       "      <td>-</td>\n",
       "      <td>3.6,2.8 p=5.4e-02</td>\n",
       "      <td>4.6,3.9 p=7.1e-02</td>\n",
       "    </tr>\n",
       "    <tr>\n",
       "      <th>Allow companies to keep details of criminal justice algorithms secret?</th>\n",
       "      <td>2.4,2.4 p=1.0e+00</td>\n",
       "      <td>-</td>\n",
       "      <td>2.2,1.9 p=3.3e-01</td>\n",
       "      <td>1.6,1.3 p=1.1e-01</td>\n",
       "    </tr>\n",
       "    <tr>\n",
       "      <th>Is the COMPAS algorithm unfair?</th>\n",
       "      <td>-</td>\n",
       "      <td>-</td>\n",
       "      <td>5.3,5.5 p=4.8e-01</td>\n",
       "      <td>5.2,4.9 p=2.7e-01</td>\n",
       "    </tr>\n",
       "  </tbody>\n",
       "</table>\n",
       "</div>"
      ],
      "text/plain": [
       "                                                            Social Media  \\\n",
       "Use gender in course recommendations even if it...  2.9,1.7*** p=3.3e-05   \n",
       "Reduce racial disparities in criminal risk pred...  3.9,5.0*** p=4.2e-04   \n",
       "Use computer algorithms (as opposed to human ju...     4.2,3.7 p=5.6e-02   \n",
       "Allow companies to keep details of criminal jus...     2.4,2.4 p=1.0e+00   \n",
       "Is the COMPAS algorithm unfair?                                        -   \n",
       "\n",
       "                                                                    GCS  \\\n",
       "Use gender in course recommendations even if it...  3.0,2.5** p=3.5e-03   \n",
       "Reduce racial disparities in criminal risk pred...                    -   \n",
       "Use computer algorithms (as opposed to human ju...                    -   \n",
       "Allow companies to keep details of criminal jus...                    -   \n",
       "Is the COMPAS algorithm unfair?                                       -   \n",
       "\n",
       "                                                             Pre-class  \\\n",
       "Use gender in course recommendations even if it...  2.1,1.4* p=2.4e-02   \n",
       "Reduce racial disparities in criminal risk pred...  4.4,5.3* p=4.3e-02   \n",
       "Use computer algorithms (as opposed to human ju...   3.6,2.8 p=5.4e-02   \n",
       "Allow companies to keep details of criminal jus...   2.2,1.9 p=3.3e-01   \n",
       "Is the COMPAS algorithm unfair?                      5.3,5.5 p=4.8e-01   \n",
       "\n",
       "                                                            Post-class  \n",
       "Use gender in course recommendations even if it...  2.5,1.6* p=1.8e-02  \n",
       "Reduce racial disparities in criminal risk pred...   4.4,5.0 p=1.1e-01  \n",
       "Use computer algorithms (as opposed to human ju...   4.6,3.9 p=7.1e-02  \n",
       "Allow companies to keep details of criminal jus...   1.6,1.3 p=1.1e-01  \n",
       "Is the COMPAS algorithm unfair?                      5.2,4.9 p=2.7e-01  "
      ]
     },
     "execution_count": 8,
     "metadata": {},
     "output_type": "execute_result"
    }
   ],
   "source": [
    "results_df"
   ]
  },
  {
   "cell_type": "code",
   "execution_count": 9,
   "metadata": {
    "collapsed": false
   },
   "outputs": [
    {
     "name": "stdout",
     "output_type": "stream",
     "text": [
      "\\begin{tabular}{lllll}\n",
      "\\toprule\n",
      "{} &          Social Media &                  GCS &           Pre-class &          Post-class \\\\\n",
      "\\midrule\n",
      "Use gender in course recommendations even if it reduces women in science classes? &  2.9,1.7*** p=3.3e-05 &  3.0,2.5** p=3.5e-03 &  2.1,1.4* p=2.4e-02 &  2.5,1.6* p=1.8e-02 \\\\\n",
      "Reduce racial disparities in criminal risk prediction at expense of accuracy?     &  3.9,5.0*** p=4.2e-04 &                    - &  4.4,5.3* p=4.3e-02 &   4.4,5.0 p=1.1e-01 \\\\\n",
      "Use computer algorithms (as opposed to human judges) in criminal justice at all?  &     4.2,3.7 p=5.6e-02 &                    - &   3.6,2.8 p=5.4e-02 &   4.6,3.9 p=7.1e-02 \\\\\n",
      "Allow companies to keep details of criminal justice algorithms secret?            &     2.4,2.4 p=1.0e+00 &                    - &   2.2,1.9 p=3.3e-01 &   1.6,1.3 p=1.1e-01 \\\\\n",
      "Is the COMPAS algorithm unfair?                                                   &                     - &                    - &   5.3,5.5 p=4.8e-01 &   5.2,4.9 p=2.7e-01 \\\\\n",
      "\\bottomrule\n",
      "\\end{tabular}\n",
      "\n"
     ]
    }
   ],
   "source": [
    "pd.set_option('max_colwidth', 500)\n",
    "print results_df.to_latex()"
   ]
  },
  {
   "cell_type": "markdown",
   "metadata": {},
   "source": [
    "# Longitudinal analysis"
   ]
  },
  {
   "cell_type": "code",
   "execution_count": 10,
   "metadata": {
    "collapsed": false
   },
   "outputs": [
    {
     "name": "stdout",
     "output_type": "stream",
     "text": [
      "gender_recommendations: mu_pre = 1.90, mu_post = 2.26, std_pre/post = 1.17/1.54,    entropy_pre/post = 1.27/1.52\n",
      "accuracy_vs_disparity: mu_pre = 4.63, mu_post = 4.55, std_pre/post = 1.71/1.69,    entropy_pre/post = 1.82/1.85\n",
      "computers_vs_humans: mu_pre = 3.40, mu_post = 4.40, std_pre/post = 1.64/1.47,    entropy_pre/post = 1.80/1.74\n",
      "black_boxes: mu_pre = 2.16, mu_post = 1.55, std_pre/post = 1.38/0.93,    entropy_pre/post = 1.45/0.98\n",
      "compas_unfair: mu_pre = 5.34, mu_post = 5.13, std_pre/post = 1.17/1.28,    entropy_pre/post = 1.50/1.59\n"
     ]
    },
    {
     "data": {
      "image/png": "[encoded data removed]",
      "text/plain": [
       "<matplotlib.figure.Figure at 0x10cccd490>"
      ]
     },
     "metadata": {},
     "output_type": "display_data"
    }
   ],
   "source": [
    "from scipy.stats import entropy\n",
    "plt.figure(figsize=[17, 4.5])\n",
    "\n",
    "def calc_entropy(responses):\n",
    "    \"\"\"\n",
    "    small helper method to calculate entropy of responses as one measure of spread. \n",
    "    \"\"\"\n",
    "    c = Counter(responses)\n",
    "    vals = 1.0*np.array(c.values()) / len(responses)\n",
    "    return entropy(vals)\n",
    "    \n",
    "    \n",
    "for plt_idx, k in enumerate(['gender_recommendations', \n",
    "          'accuracy_vs_disparity', \n",
    "          'computers_vs_humans', \n",
    "          'black_boxes', \n",
    "          'compas_unfair']):\n",
    "    \n",
    "    pre_ids_to_values = dict(zip(pre_class_d['id'], \n",
    "                                 pre_class_d[k]))\n",
    "    post_ids_to_values = dict(zip(post_class_d['id'], \n",
    "                                 post_class_d[k]))\n",
    "    assert sorted(pre_ids_to_values.keys()) == sorted(post_ids_to_values.keys()) \n",
    "    good_ids = sorted(pre_ids_to_values.keys())\n",
    "    \n",
    "    paired_pre_vals = np.array([pre_ids_to_values[a] for a in good_ids])\n",
    "    paired_post_vals = np.array([post_ids_to_values[a] for a in good_ids])\n",
    "    \n",
    "    t, p = ttest_rel(paired_pre_vals, paired_post_vals)\n",
    "    plt.subplot(1, 5, plt_idx + 1)\n",
    "    possible_answers = range(1, 8)\n",
    "    pre_counts = Counter(paired_pre_vals)\n",
    "    post_counts = Counter(paired_post_vals)\n",
    "    pre_bars = [100.0 * pre_counts[i] / len(paired_pre_vals) for i in possible_answers]\n",
    "    post_bars = [100.0 * post_counts[i] / len(paired_post_vals) for i in possible_answers]\n",
    "    \n",
    "    print '%s: mu_pre = %2.2f, mu_post = %2.2f, std_pre/post = %2.2f/%2.2f,\\\n",
    "    entropy_pre/post = %2.2f/%2.2f' % (k,\n",
    "                                       np.mean(paired_pre_vals),\n",
    "                                       np.mean(paired_post_vals),\n",
    "                                       np.std(paired_pre_vals),\n",
    "                                       np.std(paired_post_vals),\n",
    "                                       calc_entropy(paired_pre_vals),\n",
    "                                       calc_entropy(paired_post_vals))\n",
    "    plt.bar(possible_answers, pre_bars, color = 'blue', alpha = .7, label = 'Pre-class')\n",
    "    plt.bar(possible_answers, post_bars, color = 'red', alpha = .7, label = 'Post-class')\n",
    "\n",
    "    if plt_idx == 0:\n",
    "        plt.ylabel(\"% of respondents\", fontsize = 16, fontweight = 'bold')\n",
    "        plt.legend(fontsize = 16)\n",
    "    else:\n",
    "        plt.yticks([])\n",
    "        \n",
    "    plt.title(pretty_titles[k] + '\\np: %2.1e' % p, fontsize=13, fontweight='bold')\n",
    "    plt.ylim([0, 80])\n",
    "    plt.xticks(possible_answers, possible_answers)\n",
    "plt.subplots_adjust(wspace=.05, top=.7, left=.05, right=.98)\n",
    "plt.savefig('pre_post_summary_plot.pdf')\n",
    "plt.show()\n",
    "\n",
    "    \n",
    "    \n",
    "    \n",
    "    \n",
    "\n",
    "    \n"
   ]
  },
  {
   "cell_type": "markdown",
   "metadata": {},
   "source": [
    "## did your opinion change? "
   ]
  },
  {
   "cell_type": "code",
   "execution_count": 11,
   "metadata": {
    "collapsed": false
   },
   "outputs": [
    {
     "name": "stdout",
     "output_type": "stream",
     "text": [
      "Counter({'At least one of my opinions has slightly changed': 64, 'At least one of my opinions has significantly changed': 15, 'All my opinions are exactly the same as they were before': 7, 'At least one of my opinions has totally changed': 1})\n",
      "changed_opinion\n",
      "All my opinions are exactly the same as they were before    0.080460\n",
      "At least one of my opinions has significantly changed       0.172414\n",
      "At least one of my opinions has slightly changed            0.735632\n",
      "At least one of my opinions has totally changed             0.011494\n",
      "dtype: float64\n"
     ]
    }
   ],
   "source": [
    "print Counter(post_class_d['changed_opinion'])\n",
    "print 1.0*post_class_d[['changed_opinion']].groupby('changed_opinion').size() / len(post_class_d)"
   ]
  },
  {
   "cell_type": "markdown",
   "metadata": {},
   "source": [
    "# Miscellaneous robustness checks"
   ]
  },
  {
   "cell_type": "markdown",
   "metadata": {},
   "source": [
    "#### Is there an overall significant association between gender and answers to questions? Yes. Flip the regression around to test for associations with all questions simultaneously. \n"
   ]
  },
  {
   "cell_type": "code",
   "execution_count": 12,
   "metadata": {
    "collapsed": false
   },
   "outputs": [
    {
     "name": "stdout",
     "output_type": "stream",
     "text": [
      "******pre_class\n",
      "Optimization terminated successfully.\n",
      "         Current function value: 0.501491\n",
      "         Iterations 6\n",
      "Association between all questions and gender in pre_class: 4.882e-02\n",
      "******post_class\n",
      "Optimization terminated successfully.\n",
      "         Current function value: 0.467756\n",
      "         Iterations 7\n",
      "Association between all questions and gender in post_class: 4.496e-03\n",
      "******social media\n",
      "Optimization terminated successfully.\n",
      "         Current function value: 0.613444\n",
      "         Iterations 6\n",
      "Association between all questions and gender in social media: 8.908e-05\n"
     ]
    }
   ],
   "source": [
    "# checked. \n",
    "surveys = ['pre_class', 'post_class', 'social media']\n",
    "\n",
    "for d_idx, d in enumerate([pre_class_d, post_class_d, social_media_d]):\n",
    "    print '******%s' % surveys[d_idx]    \n",
    "    d['gender_female'] = 1.*(d['gender'] == 'Female')\n",
    "    if surveys[d_idx] == 'social media':\n",
    "        model = sm.Logit.from_formula(\"gender_female ~ gender_recommendations + accuracy_vs_disparity + computers_vs_humans + black_boxes\", \n",
    "                                      data = d).fit()\n",
    "    else:\n",
    "        model = sm.Logit.from_formula(\"gender_female ~ compas_unfair + gender_recommendations + accuracy_vs_disparity + computers_vs_humans + black_boxes\", \n",
    "                                      data = d).fit()\n",
    "    print 'Association between all questions and gender in %s: %2.3e' % (surveys[d_idx], \n",
    "                                                                         model.llr_pvalue)\n",
    "        \n",
    "    "
   ]
  },
  {
   "cell_type": "markdown",
   "metadata": {},
   "source": [
    "## Robustness checks: does adding in profession change the associations with gender? \n",
    "\n",
    "As noted above, this code cannot actually be run using the released data but we include it for completeness. "
   ]
  },
  {
   "cell_type": "code",
   "execution_count": 14,
   "metadata": {
    "collapsed": false
   },
   "outputs": [],
   "source": [
    "raise Exception(\"Code below here cannot be run because profession data has been redacted for privacy.\")"
   ]
  },
  {
   "cell_type": "code",
   "execution_count": 13,
   "metadata": {
    "collapsed": false
   },
   "outputs": [
    {
     "name": "stdout",
     "output_type": "stream",
     "text": [
      "Computer science class field counts\n",
      "Counter({'Computer scientist': 61, 'Other mathematical / scientific field': 23, 'Other humanities field': 3})\n",
      "Social media survey field counts\n",
      "Counter({'Other humanities field': 77, 'Computer scientist': 49, 'Other mathematical / scientific field': 37})\n"
     ]
    }
   ],
   "source": [
    "print 'Computer science class field counts'\n",
    "print Counter(pre_class_d['profession'])\n",
    "\n",
    "print 'Social media survey field counts'\n",
    "print Counter(social_media_d['profession'])\n",
    "\n",
    "\n",
    "\n"
   ]
  },
  {
   "cell_type": "markdown",
   "metadata": {},
   "source": [
    "#### Is there any significant association between profession and answers to questions? Not really. Of course, sample is small, so there might be meaningful effects we can't detect, but no compelling evidence. (In the post-class sample there is one p-value below .05, but this doesn't hold up to slightly changing the specification of the model, and in any case we're running like a million tests.)"
   ]
  },
  {
   "cell_type": "code",
   "execution_count": 14,
   "metadata": {
    "collapsed": false,
    "scrolled": false
   },
   "outputs": [
    {
     "name": "stdout",
     "output_type": "stream",
     "text": [
      "******pre_class\n",
      "Counter({'Computer scientist': 61, 'Other mathematical / scientific field': 23, 'Other humanities field': 3})\n",
      "Optimization terminated successfully.\n",
      "         Current function value: 0.580478\n",
      "         Iterations 6\n",
      "                                Logit Regression Results                               \n",
      "=======================================================================================\n",
      "Dep. Variable:     profession_computer_science   No. Observations:                   87\n",
      "Model:                                   Logit   Df Residuals:                       81\n",
      "Method:                                    MLE   Df Model:                            5\n",
      "Date:                         Sat, 03 Mar 2018   Pseudo R-squ.:                 0.04822\n",
      "Time:                                 20:32:15   Log-Likelihood:                -50.502\n",
      "converged:                                True   LL-Null:                       -53.060\n",
      "                                                 LLR p-value:                    0.4017\n",
      "==========================================================================================\n",
      "                             coef    std err          z      P>|z|      [95.0% Conf. Int.]\n",
      "------------------------------------------------------------------------------------------\n",
      "Intercept                 -0.3240      1.662     -0.195      0.845        -3.581     2.933\n",
      "gender_recommendations     0.2704      0.275      0.984      0.325        -0.268     0.809\n",
      "accuracy_vs_disparity     -0.0466      0.171     -0.273      0.785        -0.381     0.288\n",
      "computers_vs_humans       -0.1198      0.160     -0.747      0.455        -0.434     0.195\n",
      "black_boxes                0.3114      0.223      1.396      0.163        -0.126     0.749\n",
      "compas_unfair              0.1301      0.238      0.546      0.585        -0.337     0.597\n",
      "==========================================================================================\n",
      "significance of association between profession and gender_recommendations: 0.22286\n",
      "significance of association between profession and accuracy_vs_disparity: 0.10371\n",
      "significance of association between profession and computers_vs_humans: 0.78594\n",
      "significance of association between profession and black_boxes: 0.19469\n",
      "significance of association between profession and compas_unfair: 0.33072\n",
      "******post_class\n",
      "Counter({'Computer scientist': 61, 'Other mathematical / scientific field': 23, 'Other humanities field': 3})\n",
      "Optimization terminated successfully.\n",
      "         Current function value: 0.575562\n",
      "         Iterations 6\n",
      "                                Logit Regression Results                               \n",
      "=======================================================================================\n",
      "Dep. Variable:     profession_computer_science   No. Observations:                   87\n",
      "Model:                                   Logit   Df Residuals:                       81\n",
      "Method:                                    MLE   Df Model:                            5\n",
      "Date:                         Sat, 03 Mar 2018   Pseudo R-squ.:                 0.05628\n",
      "Time:                                 20:32:15   Log-Likelihood:                -50.074\n",
      "converged:                                True   LL-Null:                       -53.060\n",
      "                                                 LLR p-value:                    0.3089\n",
      "==========================================================================================\n",
      "                             coef    std err          z      P>|z|      [95.0% Conf. Int.]\n",
      "------------------------------------------------------------------------------------------\n",
      "Intercept                 -0.8870      1.588     -0.558      0.577        -4.000     2.226\n",
      "gender_recommendations     0.2933      0.193      1.519      0.129        -0.085     0.672\n",
      "accuracy_vs_disparity      0.1769      0.167      1.057      0.291        -0.151     0.505\n",
      "computers_vs_humans       -0.1306      0.175     -0.748      0.455        -0.473     0.212\n",
      "black_boxes                0.3688      0.337      1.093      0.274        -0.292     1.030\n",
      "compas_unfair              0.0692      0.204      0.340      0.734        -0.330     0.469\n",
      "==========================================================================================\n",
      "significance of association between profession and gender_recommendations: 0.22552\n",
      "significance of association between profession and accuracy_vs_disparity: 0.01049\n",
      "significance of association between profession and computers_vs_humans: 0.08986\n",
      "significance of association between profession and black_boxes: 0.32886\n",
      "significance of association between profession and compas_unfair: 0.06051\n",
      "******social media\n",
      "Counter({'Other humanities field': 77, 'Computer scientist': 49, 'Other mathematical / scientific field': 37})\n",
      "Optimization terminated successfully.\n",
      "         Current function value: 0.678469\n",
      "         Iterations 4\n",
      "                             Logit Regression Results                            \n",
      "=================================================================================\n",
      "Dep. Variable:     profession_humanities   No. Observations:                  163\n",
      "Model:                             Logit   Df Residuals:                      158\n",
      "Method:                              MLE   Df Model:                            4\n",
      "Date:                   Sat, 03 Mar 2018   Pseudo R-squ.:                 0.01902\n",
      "Time:                           20:32:15   Log-Likelihood:                -110.59\n",
      "converged:                          True   LL-Null:                       -112.73\n",
      "                                           LLR p-value:                    0.3684\n",
      "==========================================================================================\n",
      "                             coef    std err          z      P>|z|      [95.0% Conf. Int.]\n",
      "------------------------------------------------------------------------------------------\n",
      "Intercept                  0.2217      0.681      0.326      0.745        -1.112     1.556\n",
      "gender_recommendations    -0.0532      0.101     -0.527      0.598        -0.251     0.144\n",
      "accuracy_vs_disparity     -0.0068      0.090     -0.076      0.940        -0.184     0.170\n",
      "computers_vs_humans       -0.1331      0.095     -1.395      0.163        -0.320     0.054\n",
      "black_boxes                0.1470      0.099      1.479      0.139        -0.048     0.342\n",
      "==========================================================================================\n",
      "Optimization terminated successfully.\n",
      "         Current function value: 0.593141\n",
      "         Iterations 5\n",
      "                                Logit Regression Results                               \n",
      "=======================================================================================\n",
      "Dep. Variable:     profession_computer_science   No. Observations:                  163\n",
      "Model:                                   Logit   Df Residuals:                      158\n",
      "Method:                                    MLE   Df Model:                            4\n",
      "Date:                         Sat, 03 Mar 2018   Pseudo R-squ.:                 0.02984\n",
      "Time:                                 20:32:15   Log-Likelihood:                -96.682\n",
      "converged:                                True   LL-Null:                       -99.655\n",
      "                                                 LLR p-value:                    0.2031\n",
      "==========================================================================================\n",
      "                             coef    std err          z      P>|z|      [95.0% Conf. Int.]\n",
      "------------------------------------------------------------------------------------------\n",
      "Intercept                 -1.4301      0.753     -1.900      0.057        -2.905     0.045\n",
      "gender_recommendations     0.1102      0.108      1.024      0.306        -0.101     0.321\n",
      "accuracy_vs_disparity      0.1106      0.099      1.119      0.263        -0.083     0.304\n",
      "computers_vs_humans        0.0827      0.102      0.811      0.418        -0.117     0.283\n",
      "black_boxes               -0.2234      0.120     -1.865      0.062        -0.458     0.011\n",
      "==========================================================================================\n",
      "significance of association between profession and gender_recommendations: 0.59431\n",
      "significance of association between profession and accuracy_vs_disparity: 0.47799\n",
      "significance of association between profession and computers_vs_humans: 0.40274\n",
      "significance of association between profession and black_boxes: 0.20686\n"
     ]
    }
   ],
   "source": [
    "# Checked. \n",
    "surveys = ['pre_class', 'post_class', 'social media']\n",
    "\n",
    "for d_idx, d in enumerate([pre_class_d, post_class_d, social_media_d]):\n",
    "    cols_to_examine = [a for a in essential_cols if a in d.columns]\n",
    "    print '******%s' % surveys[d_idx]\n",
    "    print Counter(d['profession'])\n",
    "    d['profession_computer_science'] = (d['profession'] == 'Computer scientist') * 1.0\n",
    "    d['profession_humanities'] = (d['profession'] == 'Other humanities field') * 1.0\n",
    "    rhs = '+'.join(cols_to_examine)\n",
    "    if d['profession_humanities'].sum() > 10:\n",
    "        model = sm.Logit.from_formula(\"profession_humanities ~ %s\" % rhs, data = d).fit()\n",
    "        print model.summary()\n",
    "\n",
    "    model = sm.Logit.from_formula(\"profession_computer_science ~ %s\" % rhs, data = d).fit()\n",
    "    print model.summary()\n",
    "\n",
    "    for col in cols_to_examine:\n",
    "        model = sm.OLS.from_formula('%s ~ profession' % col, data = d).fit()\n",
    "        print 'significance of association between profession and %s: %2.5f' % (col, model.f_pvalue)"
   ]
  },
  {
   "cell_type": "markdown",
   "metadata": {},
   "source": [
    "#### Is there an association between gender and profession? Yes, some association. "
   ]
  },
  {
   "cell_type": "code",
   "execution_count": 15,
   "metadata": {
    "collapsed": false
   },
   "outputs": [
    {
     "name": "stdout",
     "output_type": "stream",
     "text": [
      "******pre_class\n",
      "Optimization terminated successfully.\n",
      "         Current function value: 0.562100\n",
      "         Iterations 5\n",
      "significance of association between female and profession 0.746\n",
      "                                      gender_female     \n",
      "                                               mean size\n",
      "profession                                              \n",
      "Computer scientist                         0.229508   61\n",
      "Other humanities field                     0.333333    3\n",
      "Other mathematical / scientific field      0.304348   23\n",
      "******post_class\n",
      "Optimization terminated successfully.\n",
      "         Current function value: 0.562100\n",
      "         Iterations 5\n",
      "significance of association between female and profession 0.746\n",
      "                                      gender_female     \n",
      "                                               mean size\n",
      "profession                                              \n",
      "Computer scientist                         0.229508   61\n",
      "Other humanities field                     0.333333    3\n",
      "Other mathematical / scientific field      0.304348   23\n",
      "******social media\n",
      "Optimization terminated successfully.\n",
      "         Current function value: 0.664184\n",
      "         Iterations 5\n",
      "significance of association between female and profession 0.027\n",
      "                                      gender_female     \n",
      "                                               mean size\n",
      "profession                                              \n",
      "Computer scientist                         0.285714   49\n",
      "Other humanities field                     0.519481   77\n",
      "Other mathematical / scientific field      0.486486   37\n"
     ]
    }
   ],
   "source": [
    "# Checked. \n",
    "surveys = ['pre_class', 'post_class', 'social media']\n",
    "\n",
    "for d_idx, d in enumerate([pre_class_d, post_class_d, social_media_d]):\n",
    "    print '******%s' % surveys[d_idx]\n",
    "    model = sm.Logit.from_formula('gender_female ~ profession', data = d).fit()\n",
    "    print 'significance of association between female and profession %2.3f' % model.llr_pvalue\n",
    "\n",
    "    print d[['profession', 'gender_female']].groupby('profession').agg(['mean', 'size'])"
   ]
  },
  {
   "cell_type": "markdown",
   "metadata": {},
   "source": [
    "#### Do the associations between algorithmic fairness beliefs and gender remain significant when we control for profession? Yes. "
   ]
  },
  {
   "cell_type": "code",
   "execution_count": 16,
   "metadata": {
    "collapsed": false
   },
   "outputs": [
    {
     "data": {
      "text/html": [
       "<div>\n",
       "<table border=\"1\" class=\"dataframe\">\n",
       "  <thead>\n",
       "    <tr style=\"text-align: right;\">\n",
       "      <th></th>\n",
       "      <th>population</th>\n",
       "      <th>question</th>\n",
       "      <th>beta_without_profession</th>\n",
       "      <th>beta_with_profession</th>\n",
       "      <th>pvalue_without_profession</th>\n",
       "      <th>pvalue_with_profession</th>\n",
       "    </tr>\n",
       "  </thead>\n",
       "  <tbody>\n",
       "    <tr>\n",
       "      <th>0</th>\n",
       "      <td>pre_class</td>\n",
       "      <td>gender_recommendations</td>\n",
       "      <td>0.652448</td>\n",
       "      <td>0.618698</td>\n",
       "      <td>0.024291</td>\n",
       "      <td>0.032458</td>\n",
       "    </tr>\n",
       "    <tr>\n",
       "      <th>1</th>\n",
       "      <td>pre_class</td>\n",
       "      <td>accuracy_vs_disparity</td>\n",
       "      <td>-0.857343</td>\n",
       "      <td>-0.845307</td>\n",
       "      <td>0.042520</td>\n",
       "      <td>0.043012</td>\n",
       "    </tr>\n",
       "    <tr>\n",
       "      <th>2</th>\n",
       "      <td>pre_class</td>\n",
       "      <td>computers_vs_humans</td>\n",
       "      <td>0.781818</td>\n",
       "      <td>0.807711</td>\n",
       "      <td>0.053574</td>\n",
       "      <td>0.048755</td>\n",
       "    </tr>\n",
       "    <tr>\n",
       "      <th>3</th>\n",
       "      <td>pre_class</td>\n",
       "      <td>black_boxes</td>\n",
       "      <td>0.337063</td>\n",
       "      <td>0.288309</td>\n",
       "      <td>0.327829</td>\n",
       "      <td>0.401041</td>\n",
       "    </tr>\n",
       "    <tr>\n",
       "      <th>4</th>\n",
       "      <td>pre_class</td>\n",
       "      <td>compas_unfair</td>\n",
       "      <td>-0.207692</td>\n",
       "      <td>-0.199130</td>\n",
       "      <td>0.478533</td>\n",
       "      <td>0.497872</td>\n",
       "    </tr>\n",
       "    <tr>\n",
       "      <th>5</th>\n",
       "      <td>post_class</td>\n",
       "      <td>gender_recommendations</td>\n",
       "      <td>0.901399</td>\n",
       "      <td>0.860256</td>\n",
       "      <td>0.017574</td>\n",
       "      <td>0.023278</td>\n",
       "    </tr>\n",
       "    <tr>\n",
       "      <th>6</th>\n",
       "      <td>post_class</td>\n",
       "      <td>accuracy_vs_disparity</td>\n",
       "      <td>-0.660839</td>\n",
       "      <td>-0.676904</td>\n",
       "      <td>0.114802</td>\n",
       "      <td>0.092715</td>\n",
       "    </tr>\n",
       "    <tr>\n",
       "      <th>7</th>\n",
       "      <td>post_class</td>\n",
       "      <td>computers_vs_humans</td>\n",
       "      <td>0.660140</td>\n",
       "      <td>0.682668</td>\n",
       "      <td>0.070719</td>\n",
       "      <td>0.057936</td>\n",
       "    </tr>\n",
       "    <tr>\n",
       "      <th>8</th>\n",
       "      <td>post_class</td>\n",
       "      <td>black_boxes</td>\n",
       "      <td>0.373427</td>\n",
       "      <td>0.348582</td>\n",
       "      <td>0.106559</td>\n",
       "      <td>0.133133</td>\n",
       "    </tr>\n",
       "    <tr>\n",
       "      <th>9</th>\n",
       "      <td>post_class</td>\n",
       "      <td>compas_unfair</td>\n",
       "      <td>0.351748</td>\n",
       "      <td>0.351915</td>\n",
       "      <td>0.272285</td>\n",
       "      <td>0.263363</td>\n",
       "    </tr>\n",
       "    <tr>\n",
       "      <th>10</th>\n",
       "      <td>social media</td>\n",
       "      <td>gender_recommendations</td>\n",
       "      <td>1.145910</td>\n",
       "      <td>1.139838</td>\n",
       "      <td>0.000033</td>\n",
       "      <td>0.000057</td>\n",
       "    </tr>\n",
       "    <tr>\n",
       "      <th>11</th>\n",
       "      <td>social media</td>\n",
       "      <td>accuracy_vs_disparity</td>\n",
       "      <td>-1.068834</td>\n",
       "      <td>-1.152239</td>\n",
       "      <td>0.000420</td>\n",
       "      <td>0.000197</td>\n",
       "    </tr>\n",
       "    <tr>\n",
       "      <th>12</th>\n",
       "      <td>social media</td>\n",
       "      <td>computers_vs_humans</td>\n",
       "      <td>0.553114</td>\n",
       "      <td>0.537907</td>\n",
       "      <td>0.055836</td>\n",
       "      <td>0.069175</td>\n",
       "    </tr>\n",
       "    <tr>\n",
       "      <th>13</th>\n",
       "      <td>social media</td>\n",
       "      <td>black_boxes</td>\n",
       "      <td>-0.001374</td>\n",
       "      <td>0.099513</td>\n",
       "      <td>0.995851</td>\n",
       "      <td>0.711445</td>\n",
       "    </tr>\n",
       "  </tbody>\n",
       "</table>\n",
       "</div>"
      ],
      "text/plain": [
       "      population                question  beta_without_profession  \\\n",
       "0      pre_class  gender_recommendations                 0.652448   \n",
       "1      pre_class   accuracy_vs_disparity                -0.857343   \n",
       "2      pre_class     computers_vs_humans                 0.781818   \n",
       "3      pre_class             black_boxes                 0.337063   \n",
       "4      pre_class           compas_unfair                -0.207692   \n",
       "5     post_class  gender_recommendations                 0.901399   \n",
       "6     post_class   accuracy_vs_disparity                -0.660839   \n",
       "7     post_class     computers_vs_humans                 0.660140   \n",
       "8     post_class             black_boxes                 0.373427   \n",
       "9     post_class           compas_unfair                 0.351748   \n",
       "10  social media  gender_recommendations                 1.145910   \n",
       "11  social media   accuracy_vs_disparity                -1.068834   \n",
       "12  social media     computers_vs_humans                 0.553114   \n",
       "13  social media             black_boxes                -0.001374   \n",
       "\n",
       "    beta_with_profession  pvalue_without_profession  pvalue_with_profession  \n",
       "0               0.618698                   0.024291                0.032458  \n",
       "1              -0.845307                   0.042520                0.043012  \n",
       "2               0.807711                   0.053574                0.048755  \n",
       "3               0.288309                   0.327829                0.401041  \n",
       "4              -0.199130                   0.478533                0.497872  \n",
       "5               0.860256                   0.017574                0.023278  \n",
       "6              -0.676904                   0.114802                0.092715  \n",
       "7               0.682668                   0.070719                0.057936  \n",
       "8               0.348582                   0.106559                0.133133  \n",
       "9               0.351915                   0.272285                0.263363  \n",
       "10              1.139838                   0.000033                0.000057  \n",
       "11             -1.152239                   0.000420                0.000197  \n",
       "12              0.537907                   0.055836                0.069175  \n",
       "13              0.099513                   0.995851                0.711445  "
      ]
     },
     "execution_count": 16,
     "metadata": {},
     "output_type": "execute_result"
    }
   ],
   "source": [
    "# Checked. \n",
    "\n",
    "surveys = ['pre_class', 'post_class', 'social media']\n",
    "all_results = []\n",
    "for d_idx, d in enumerate([pre_class_d, post_class_d, social_media_d]):\n",
    "    cols_to_examine = [a for a in essential_cols if a in d.columns]\n",
    "    for col in cols_to_examine:\n",
    "        model_without_profession = sm.OLS.from_formula('%s ~ gender' % col, data = d).fit()\n",
    "        model_with_profession = sm.OLS.from_formula('%s ~ gender + profession' % col, data = d).fit()\n",
    "        all_results.append({'population':surveys[d_idx], \n",
    "                            'question':col, \n",
    "                             'beta_without_profession':model_without_profession.params['gender[T.Male]'],\n",
    "                             'beta_with_profession':model_with_profession.params['gender[T.Male]'],\n",
    "                            'pvalue_without_profession':model_without_profession.pvalues['gender[T.Male]'], \n",
    "                             'pvalue_with_profession':model_with_profession.pvalues['gender[T.Male]']})\n",
    "all_results = pd.DataFrame(all_results)\n",
    "all_results[['population', \n",
    "             'question', \n",
    "             'beta_without_profession', \n",
    "             'beta_with_profession', \n",
    "             'pvalue_without_profession', \n",
    "             'pvalue_with_profession']]\n",
    "    \n",
    "\n",
    "\n",
    "\n",
    "\n"
   ]
  }
 ],
 "metadata": {
  "kernelspec": {
   "display_name": "Python 2",
   "language": "python",
   "name": "python2"
  },
  "language_info": {
   "codemirror_mode": {
    "name": "ipython",
    "version": 2
   },
   "file_extension": ".py",
   "mimetype": "text/x-python",
   "name": "python",
   "nbconvert_exporter": "python",
   "pygments_lexer": "ipython2",
   "version": "2.7.10"
  }
 },
 "nbformat": 4,
 "nbformat_minor": 2
}
